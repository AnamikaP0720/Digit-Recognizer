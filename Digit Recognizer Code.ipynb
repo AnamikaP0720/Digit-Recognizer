{
 "cells": [
  {
   "cell_type": "code",
   "execution_count": 11,
   "metadata": {
    "collapsed": true
   },
   "outputs": [],
   "source": [
    "import pandas as pd\n",
    "import numpy as np\n",
    "import matplotlib.pyplot as plt\n",
    "import random"
   ]
  },
  {
   "cell_type": "code",
   "execution_count": null,
   "metadata": {
    "collapsed": true
   },
   "outputs": [],
   "source": [
    "#cnf_matrix = confusion_matrix(y_test, predicted)\n",
    "#print(cnf_matrix)\n",
    "print(X_train)\n",
    "print(y_train)"
   ]
  },
  {
   "cell_type": "code",
   "execution_count": null,
   "metadata": {
    "collapsed": true
   },
   "outputs": [],
   "source": [
    "from sklearn import datasets, svm\n",
    "from sklearn.model_selection import train_test_split\n",
    "from sklearn.metrics import confusion_matrix\n",
    "iris = datasets.load_iris()\n",
    "X = iris.data[:, :2]\n",
    "y = iris.target\n",
    "#Split the data into test and train\n",
    "X_train, X_test, y_train, y_test = train_test_split(X, y, test_size=0.3, random_state=0)  \n",
    "\n",
    "# Linear Kernel\n",
    "svc_linear = svm.SVC(kernel='linear', C=1)\n",
    "svc_linear.fit(X_train, y_train)\n",
    "predicted= svc_linear.predict(X_test)"
   ]
  },
  {
   "cell_type": "code",
   "execution_count": null,
   "metadata": {
    "collapsed": true
   },
   "outputs": [],
   "source": [
    "from sklearn.metrics import precision_score\n",
    "precise_score=precision_score(y_test,predicted,average=\"micro\")\n",
    "print(precise_score) "
   ]
  },
  {
   "cell_type": "code",
   "execution_count": 12,
   "metadata": {
    "collapsed": true
   },
   "outputs": [],
   "source": [
    "data=pd.read_csv(\"D:/Digit-Recognizer/Datasets/train.csv\")\n",
    "c_data = data.drop([\"label\"], axis=1).values"
   ]
  },
  {
   "cell_type": "code",
   "execution_count": null,
   "metadata": {
    "collapsed": true
   },
   "outputs": [],
   "source": [
    "# data vishualization\n",
    "for i in range(0,10):\n",
    "    for j in range(0,10):\n",
    "        index = random.randrange(0, len(c_data))\n",
    "        plot = plt.subplot2grid((10, 10), (i, j))\n",
    "        plot.imshow(c_data[index].reshape(28,28))\n",
    "\n",
    "#plt.tight_layout()\n",
    "plt.show()"
   ]
  },
  {
   "cell_type": "code",
   "execution_count": null,
   "metadata": {
    "collapsed": true
   },
   "outputs": [],
   "source": [
    "print(data.iloc[41980,776])  # iloc is used to access the dataframe given the index."
   ]
  },
  {
   "cell_type": "code",
   "execution_count": 13,
   "metadata": {
    "collapsed": true
   },
   "outputs": [],
   "source": [
    "X=data.iloc[:,1:785].values # x contains all the pixel data.\n",
    "Y=data.iloc[:,0:1].values #y contains the label that is actual\n"
   ]
  },
  {
   "cell_type": "code",
   "execution_count": 14,
   "metadata": {
    "collapsed": true
   },
   "outputs": [],
   "source": [
    "from sklearn.model_selection import train_test_split\n",
    "X_train,X_valid,y_train,y_valid=train_test_split(X,Y,test_size=0.1)"
   ]
  },
  {
   "cell_type": "code",
   "execution_count": null,
   "metadata": {
    "collapsed": true
   },
   "outputs": [],
   "source": [
    "from sklearn.neighbors import KNeighborsClassifier\n",
    "classifier = KNeighborsClassifier(n_neighbors=5, weights=\"distance\", algorithm=\"auto\", leaf_size=30, p=2, n_jobs=10)\n"
   ]
  },
  {
   "cell_type": "code",
   "execution_count": null,
   "metadata": {
    "collapsed": true
   },
   "outputs": [],
   "source": [
    "print(y_train.flatten())"
   ]
  },
  {
   "cell_type": "code",
   "execution_count": 15,
   "metadata": {
    "scrolled": true
   },
   "outputs": [
    {
     "name": "stdout",
     "output_type": "stream",
     "text": [
      "v\n",
      "c\n",
      "done\n"
     ]
    }
   ],
   "source": [
    "from sklearn import svm\n",
    "svc_linear = svm.SVC(kernel='rbf', C=1)\n",
    "print(\"v\")\n",
    "svc_linear.fit(X_train, y_train.flatten())\n",
    "print(\"c\")\n",
    "pred = svc_linear.predict(X_valid)\n",
    "print(\"done\")\n",
    "#svm.SVC(C=1.0, kernel='rbf', degree=3, gamma='auto').fit(X_train, y_train.flatten())\n",
    "#pred_svm = svm.SVC(C=1.0, kernel='rbf', degree=3, gamma='auto').predict(X_valid)"
   ]
  },
  {
   "cell_type": "code",
   "execution_count": null,
   "metadata": {
    "collapsed": true
   },
   "outputs": [],
   "source": [
    "classifier.fit(X_train,y_train)\n",
    "pred=classifier.predict(X_valid)"
   ]
  },
  {
   "cell_type": "code",
   "execution_count": 16,
   "metadata": {},
   "outputs": [
    {
     "name": "stdout",
     "output_type": "stream",
     "text": [
      "0.102619047619\n"
     ]
    }
   ],
   "source": [
    "from sklearn.metrics import precision_score\n",
    "precise_score=precision_score(y_valid,pred,average=\"micro\")\n",
    "print(precise_score) "
   ]
  },
  {
   "cell_type": "code",
   "execution_count": null,
   "metadata": {
    "collapsed": true
   },
   "outputs": [],
   "source": [
    "print(pred[246])\n",
    "print(y_valid[246])"
   ]
  }
 ],
 "metadata": {
  "kernelspec": {
   "display_name": "Python 3",
   "language": "python",
   "name": "python3"
  }
 },
 "nbformat": 4,
 "nbformat_minor": 2
}
